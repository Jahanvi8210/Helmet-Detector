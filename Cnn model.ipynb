{
 "cells": [
  {
   "cell_type": "code",
   "execution_count": 193,
   "metadata": {},
   "outputs": [],
   "source": [
    "import glob\n",
    "import cv2\n",
    "import os\n",
    "import numpy as np\n",
    "from keras.models import Sequential\n",
    "from keras.layers import Conv2D,Dense,MaxPool2D,Flatten,Dropout\n",
    "from keras.preprocessing import image"
   ]
  },
  {
   "cell_type": "code",
   "execution_count": 213,
   "metadata": {},
   "outputs": [],
   "source": [
    "cv_img =[]\n",
    "for img in glob.glob(\"C:\\\\Users\\Sahil\\Desktop\\data\\helmet/*\"):\n",
    "    n= cv2.imread(img)\n",
    "    resized=cv2.resize(n,(50,50))\n",
    "    cv_img.append(resized)\n",
    "x=np.asarray(cv_img)"
   ]
  },
  {
   "cell_type": "code",
   "execution_count": 214,
   "metadata": {},
   "outputs": [],
   "source": [
    "lis=os.listdir(\"C:\\\\Users\\Sahil\\Desktop\\data\\helmet\")\n",
    "y=[]\n",
    "for i in range(len(lis)):\n",
    "    if lis[i].startswith(\"h\"):                #helmet=0\n",
    "        y.append(0)                           \n",
    "    else:\n",
    "        y.append(1)\n",
    "y=np.asarray(y)"
   ]
  },
  {
   "cell_type": "code",
   "execution_count": 218,
   "metadata": {},
   "outputs": [],
   "source": [
    "model=Sequential()\n",
    "model.add(Conv2D(50,strides=1, padding='SAME',kernel_size=5))\n",
    "model.add(MaxPool2D(pool_size=(2,2)))\n",
    "model.add(Conv2D(50,strides=1, padding='SAME',kernel_size=5,))\n",
    "model.add(MaxPool2D(pool_size=(2,2)))\n",
    "model.add(Flatten())\n",
    "model.add(Dense(1,activation=\"sigmoid\"))"
   ]
  },
  {
   "cell_type": "code",
   "execution_count": 219,
   "metadata": {},
   "outputs": [
    {
     "name": "stdout",
     "output_type": "stream",
     "text": [
      "Epoch 1/30\n",
      "191/191 [==============================] - 7s 34ms/step - loss: 7.5986 - acc: 0.5183\n",
      "Epoch 2/30\n",
      "191/191 [==============================] - 3s 17ms/step - loss: 8.1799 - acc: 0.4869\n",
      "Epoch 3/30\n",
      "191/191 [==============================] - 3s 17ms/step - loss: 8.1799 - acc: 0.4869\n",
      "Epoch 4/30\n",
      "191/191 [==============================] - 3s 18ms/step - loss: 8.1799 - acc: 0.4869\n",
      "Epoch 5/30\n",
      "191/191 [==============================] - 3s 17ms/step - loss: 8.1799 - acc: 0.4869\n",
      "Epoch 6/30\n",
      "191/191 [==============================] - 3s 17ms/step - loss: 8.1799 - acc: 0.4869\n",
      "Epoch 7/30\n",
      "191/191 [==============================] - 3s 17ms/step - loss: 8.1799 - acc: 0.4869\n",
      "Epoch 8/30\n",
      "191/191 [==============================] - 3s 18ms/step - loss: 8.1799 - acc: 0.4869\n",
      "Epoch 9/30\n",
      "191/191 [==============================] - 3s 16ms/step - loss: 8.1799 - acc: 0.4869\n",
      "Epoch 10/30\n",
      "191/191 [==============================] - 3s 17ms/step - loss: 8.1799 - acc: 0.4869\n",
      "Epoch 11/30\n",
      "191/191 [==============================] - 3s 17ms/step - loss: 8.1799 - acc: 0.4869\n",
      "Epoch 12/30\n",
      "191/191 [==============================] - 3s 17ms/step - loss: 8.1799 - acc: 0.4869\n",
      "Epoch 13/30\n",
      "191/191 [==============================] - 3s 17ms/step - loss: 8.1799 - acc: 0.4869\n",
      "Epoch 14/30\n",
      "191/191 [==============================] - 3s 17ms/step - loss: 8.1799 - acc: 0.4869\n",
      "Epoch 15/30\n",
      "191/191 [==============================] - 4s 22ms/step - loss: 8.1799 - acc: 0.4869\n",
      "Epoch 16/30\n",
      "191/191 [==============================] - 3s 17ms/step - loss: 8.1799 - acc: 0.4869\n",
      "Epoch 17/30\n",
      "191/191 [==============================] - 3s 17ms/step - loss: 8.1799 - acc: 0.4869\n",
      "Epoch 18/30\n",
      "191/191 [==============================] - 3s 17ms/step - loss: 8.1799 - acc: 0.4869\n",
      "Epoch 19/30\n",
      "191/191 [==============================] - 3s 17ms/step - loss: 8.1799 - acc: 0.4869\n",
      "Epoch 20/30\n",
      "191/191 [==============================] - 3s 17ms/step - loss: 8.1799 - acc: 0.4869\n",
      "Epoch 21/30\n",
      "191/191 [==============================] - 3s 16ms/step - loss: 8.1799 - acc: 0.4869\n",
      "Epoch 22/30\n",
      "191/191 [==============================] - 3s 18ms/step - loss: 8.1799 - acc: 0.4869\n",
      "Epoch 23/30\n",
      "191/191 [==============================] - 3s 16ms/step - loss: 8.1799 - acc: 0.4869\n",
      "Epoch 24/30\n",
      "191/191 [==============================] - 3s 17ms/step - loss: 8.1799 - acc: 0.4869\n",
      "Epoch 25/30\n",
      "191/191 [==============================] - 3s 17ms/step - loss: 8.1799 - acc: 0.4869\n",
      "Epoch 26/30\n",
      "191/191 [==============================] - 3s 17ms/step - loss: 8.1799 - acc: 0.4869\n",
      "Epoch 27/30\n",
      "191/191 [==============================] - 3s 17ms/step - loss: 8.1799 - acc: 0.4869\n",
      "Epoch 28/30\n",
      "191/191 [==============================] - 3s 17ms/step - loss: 8.1799 - acc: 0.4869\n",
      "Epoch 29/30\n",
      "191/191 [==============================] - 3s 17ms/step - loss: 8.1799 - acc: 0.4869\n",
      "Epoch 30/30\n",
      "191/191 [==============================] - 3s 16ms/step - loss: 8.1799 - acc: 0.4869\n"
     ]
    },
    {
     "data": {
      "text/plain": [
       "<keras.callbacks.History at 0x19d8c279eb8>"
      ]
     },
     "execution_count": 219,
     "metadata": {},
     "output_type": "execute_result"
    }
   ],
   "source": [
    "model.compile(optimizer='adam', loss=\"binary_crossentropy\", metrics=['accuracy'])\n",
    "model.fit(x,y,epochs=30)"
   ]
  },
  {
   "cell_type": "code",
   "execution_count": 220,
   "metadata": {},
   "outputs": [
    {
     "name": "stdout",
     "output_type": "stream",
     "text": [
      "_________________________________________________________________\n",
      "Layer (type)                 Output Shape              Param #   \n",
      "=================================================================\n",
      "conv2d_64 (Conv2D)           (None, 50, 50, 50)        3800      \n",
      "_________________________________________________________________\n",
      "max_pooling2d_60 (MaxPooling (None, 25, 25, 50)        0         \n",
      "_________________________________________________________________\n",
      "conv2d_65 (Conv2D)           (None, 25, 25, 50)        62550     \n",
      "_________________________________________________________________\n",
      "max_pooling2d_61 (MaxPooling (None, 12, 12, 50)        0         \n",
      "_________________________________________________________________\n",
      "flatten_28 (Flatten)         (None, 7200)              0         \n",
      "_________________________________________________________________\n",
      "dense_34 (Dense)             (None, 1)                 7201      \n",
      "=================================================================\n",
      "Total params: 73,551\n",
      "Trainable params: 73,551\n",
      "Non-trainable params: 0\n",
      "_________________________________________________________________\n"
     ]
    }
   ],
   "source": [
    "model.summary()"
   ]
  },
  {
   "cell_type": "code",
   "execution_count": 231,
   "metadata": {},
   "outputs": [
    {
     "name": "stdout",
     "output_type": "stream",
     "text": [
      "[[[244 241 230]\n",
      "  [244 242 230]\n",
      "  [245 241 230]\n",
      "  ...\n",
      "  [240 239 224]\n",
      "  [240 239 224]\n",
      "  [239 238 224]]\n",
      "\n",
      " [[244 244 232]\n",
      "  [244 243 231]\n",
      "  [244 243 231]\n",
      "  ...\n",
      "  [240 239 224]\n",
      "  [239 238 223]\n",
      "  [239 238 224]]\n",
      "\n",
      " [[244 243 233]\n",
      "  [244 243 233]\n",
      "  [244 243 233]\n",
      "  ...\n",
      "  [240 239 224]\n",
      "  [240 238 224]\n",
      "  [239 238 224]]\n",
      "\n",
      " ...\n",
      "\n",
      " [[211 205 175]\n",
      "  [212 205 175]\n",
      "  [215 204 176]\n",
      "  ...\n",
      "  [219 212 192]\n",
      "  [219 212 192]\n",
      "  [219 212 192]]\n",
      "\n",
      " [[209 205 175]\n",
      "  [211 205 175]\n",
      "  [214 203 175]\n",
      "  ...\n",
      "  [219 212 192]\n",
      "  [219 212 192]\n",
      "  [219 212 192]]\n",
      "\n",
      " [[208 204 174]\n",
      "  [212 204 175]\n",
      "  [212 203 175]\n",
      "  ...\n",
      "  [220 213 193]\n",
      "  [219 212 192]\n",
      "  [219 212 192]]]\n"
     ]
    },
    {
     "data": {
      "text/plain": [
       "array([[1.]], dtype=float32)"
      ]
     },
     "execution_count": 231,
     "metadata": {},
     "output_type": "execute_result"
    }
   ],
   "source": [
    "test=[]\n",
    "img=cv2.imread(\"C:\\\\Users\\Sahil\\Desktop\\o.png\")\n",
    "b  resized=cv2.resize(img,(50,50))\n",
    "test.append(resized)\n",
    "test=np.asarray(test)\n",
    "model.predict(test)"
   ]
  },
  {
   "cell_type": "code",
   "execution_count": null,
   "metadata": {},
   "outputs": [],
   "source": []
  },
  {
   "cell_type": "code",
   "execution_count": null,
   "metadata": {},
   "outputs": [],
   "source": []
  }
 ],
 "metadata": {
  "kernelspec": {
   "display_name": "Python 3",
   "language": "python",
   "name": "python3"
  },
  "language_info": {
   "codemirror_mode": {
    "name": "ipython",
    "version": 3
   },
   "file_extension": ".py",
   "mimetype": "text/x-python",
   "name": "python",
   "nbconvert_exporter": "python",
   "pygments_lexer": "ipython3",
   "version": "3.7.4"
  }
 },
 "nbformat": 4,
 "nbformat_minor": 2
}
